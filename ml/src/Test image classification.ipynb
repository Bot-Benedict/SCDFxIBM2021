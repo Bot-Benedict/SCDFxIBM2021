{
 "cells": [
  {
   "cell_type": "code",
   "execution_count": 18,
   "id": "2901d95c",
   "metadata": {},
   "outputs": [],
   "source": [
    "from PIL import Image"
   ]
  },
  {
   "cell_type": "code",
   "execution_count": 19,
   "id": "43011826",
   "metadata": {},
   "outputs": [],
   "source": [
    "import numpy as np"
   ]
  },
  {
   "cell_type": "code",
   "execution_count": 20,
   "id": "fa3da288",
   "metadata": {},
   "outputs": [],
   "source": [
    "import glob"
   ]
  },
  {
   "cell_type": "code",
   "execution_count": 498,
   "id": "1429f07c",
   "metadata": {},
   "outputs": [],
   "source": [
    "# I get data_list with\n",
    "fire_data_list = glob.glob('../datasets/fire/fire/*.jpg')"
   ]
  },
  {
   "cell_type": "code",
   "execution_count": 499,
   "id": "23c11088",
   "metadata": {},
   "outputs": [],
   "source": [
    "fire_data=[np.array(Image.open(v).resize((495,426))) for v in fire_data_list]"
   ]
  },
  {
   "cell_type": "code",
   "execution_count": 500,
   "id": "4b58249d",
   "metadata": {},
   "outputs": [],
   "source": [
    "traffic_data_list = glob.glob('../datasets/traffic_incident/traffic_incident/*.jpg')"
   ]
  },
  {
   "cell_type": "code",
   "execution_count": 501,
   "id": "56a88bcc",
   "metadata": {},
   "outputs": [],
   "source": [
    "traffic_data=[np.array(Image.open(v).resize((495,426))) for v in traffic_data_list]"
   ]
  },
  {
   "cell_type": "code",
   "execution_count": 502,
   "id": "89514368",
   "metadata": {},
   "outputs": [],
   "source": [
    "injury_data_list = glob.glob('../datasets/injury/injury/*.jpg')"
   ]
  },
  {
   "cell_type": "code",
   "execution_count": 503,
   "id": "0c7f360c",
   "metadata": {},
   "outputs": [],
   "source": [
    "injury_data=[np.array(Image.open(v).resize((495,426))) for v in injury_data_list]"
   ]
  },
  {
   "cell_type": "code",
   "execution_count": 504,
   "id": "752818ca",
   "metadata": {},
   "outputs": [],
   "source": [
    "normal_data_list = glob.glob('../datasets/normal/normal/*.jpg')"
   ]
  },
  {
   "cell_type": "code",
   "execution_count": 505,
   "id": "508352f1",
   "metadata": {},
   "outputs": [],
   "source": [
    "normal_data=[np.array(Image.open(v).resize((495,426))) for v in normal_data_list]"
   ]
  },
  {
   "cell_type": "code",
   "execution_count": 506,
   "id": "544df8e5",
   "metadata": {},
   "outputs": [],
   "source": [
    "fire_labels=[0]*len(fire_data_list)"
   ]
  },
  {
   "cell_type": "code",
   "execution_count": 507,
   "id": "071379dc",
   "metadata": {},
   "outputs": [],
   "source": [
    "traffic_labels=[1]*len(traffic_data_list)"
   ]
  },
  {
   "cell_type": "code",
   "execution_count": 508,
   "id": "fc046bfa",
   "metadata": {},
   "outputs": [],
   "source": [
    "injury_labels=[2]*len(injury_data_list)"
   ]
  },
  {
   "cell_type": "code",
   "execution_count": 509,
   "id": "a5799e41",
   "metadata": {},
   "outputs": [],
   "source": [
    "normal_labels=[3]*len(normal_data_list)"
   ]
  },
  {
   "cell_type": "code",
   "execution_count": 510,
   "id": "8b04bd7d",
   "metadata": {},
   "outputs": [],
   "source": [
    "total_data=fire_data+traffic_data+injury_data+normal_data"
   ]
  },
  {
   "cell_type": "code",
   "execution_count": 511,
   "id": "787cad62",
   "metadata": {},
   "outputs": [],
   "source": [
    "total_labels=fire_labels+traffic_labels+injury_labels+normal_labels"
   ]
  },
  {
   "cell_type": "code",
   "execution_count": 512,
   "id": "847970ec",
   "metadata": {},
   "outputs": [],
   "source": [
    "import random"
   ]
  },
  {
   "cell_type": "code",
   "execution_count": 513,
   "id": "2b3cad90",
   "metadata": {},
   "outputs": [],
   "source": [
    "combined=list(zip(total_data,total_labels))"
   ]
  },
  {
   "cell_type": "code",
   "execution_count": 514,
   "id": "ff708c0e",
   "metadata": {},
   "outputs": [],
   "source": [
    "random.shuffle(combined)"
   ]
  },
  {
   "cell_type": "code",
   "execution_count": 515,
   "id": "fc7e2b30",
   "metadata": {},
   "outputs": [],
   "source": [
    "total_data,total_labels=zip(*combined)"
   ]
  },
  {
   "cell_type": "code",
   "execution_count": 516,
   "id": "6fa48f44",
   "metadata": {},
   "outputs": [],
   "source": [
    "total_labels=np.array(total_labels)"
   ]
  },
  {
   "cell_type": "code",
   "execution_count": 517,
   "id": "18f8df2e",
   "metadata": {},
   "outputs": [],
   "source": [
    "total_data=np.array(total_data)"
   ]
  },
  {
   "cell_type": "code",
   "execution_count": 518,
   "id": "8606bcb9",
   "metadata": {},
   "outputs": [
    {
     "data": {
      "text/plain": [
       "True"
      ]
     },
     "execution_count": 518,
     "metadata": {},
     "output_type": "execute_result"
    }
   ],
   "source": [
    "len(total_data)==len(total_labels)"
   ]
  },
  {
   "cell_type": "code",
   "execution_count": 519,
   "id": "331e5c7c",
   "metadata": {},
   "outputs": [
    {
     "data": {
      "text/plain": [
       "(2955, 426, 495, 3)"
      ]
     },
     "execution_count": 519,
     "metadata": {},
     "output_type": "execute_result"
    }
   ],
   "source": [
    "total_data.shape"
   ]
  },
  {
   "cell_type": "code",
   "execution_count": 862,
   "id": "ea159928",
   "metadata": {},
   "outputs": [
    {
     "name": "stdout",
     "output_type": "stream",
     "text": [
      "[3, 0, 3, 3, 0, 0, 0, 0, 0, 0, 2, 1, 3, 1, 1, 2, 1, 2, 3, 0, 1, 0, 2, 1, 2, 3, 2, 0, 1, 0, 1, 0, 3, 3, 0, 0, 3, 2, 3, 1, 1, 1, 3, 3, 3, 3, 2, 1, 3, 0, 3, 3, 0, 3, 3, 3, 0, 3, 3, 1, 0, 3, 3, 0, 3, 0, 0, 2, 0, 1, 3, 1, 1, 0, 0, 1, 1, 3, 0, 0, 2, 3, 1, 0, 1, 3, 2, 0, 0, 3, 1, 3, 1, 1, 3, 0, 2, 1, 3, 1, 1, 2, 3, 0, 3, 3, 3, 3, 2, 0, 2, 0, 0, 1, 2, 1, 0, 2, 3, 0, 0, 2, 3, 3, 0, 3, 1, 0, 3, 3, 2, 2, 3, 3, 0, 0, 3, 1, 3, 0, 1, 3, 1, 3, 3, 0, 0, 1, 0, 0, 3, 0, 0, 1, 0, 0, 3, 1, 0, 2, 3, 1, 3, 3, 3, 3, 0, 0, 3, 3, 1, 2, 2, 0, 0, 3, 2, 3, 2, 0, 3, 1, 1, 0, 3, 1, 1, 3, 0, 3, 2, 2, 0, 1, 3, 0, 3, 1, 1, 3]\n"
     ]
    }
   ],
   "source": [
    "print(list(total_labels[:200]))"
   ]
  },
  {
   "cell_type": "code",
   "execution_count": 521,
   "id": "be7e1b1c",
   "metadata": {},
   "outputs": [],
   "source": [
    "# TensorFlow and tf.keras\n",
    "import tensorflow as tf\n",
    "\n",
    "# Helper libraries\n",
    "import numpy as np"
   ]
  },
  {
   "cell_type": "code",
   "execution_count": 522,
   "id": "834c36ff",
   "metadata": {},
   "outputs": [],
   "source": [
    "from tensorflow.keras import layers"
   ]
  },
  {
   "cell_type": "code",
   "execution_count": 523,
   "id": "4d3f77ba",
   "metadata": {},
   "outputs": [],
   "source": [
    "from keras.models import Sequential"
   ]
  },
  {
   "cell_type": "code",
   "execution_count": 524,
   "id": "699cc5a2",
   "metadata": {},
   "outputs": [],
   "source": [
    "from keras.layers import Dropout"
   ]
  },
  {
   "cell_type": "code",
   "execution_count": 525,
   "id": "b6725f7f",
   "metadata": {},
   "outputs": [],
   "source": [
    "'''\n",
    "model = tf.keras.Sequential([\n",
    "    tf.keras.layers.Flatten(input_shape=(495, 426,3)),\n",
    "    tf.keras.layers.Dense(2100, activation='relu'),\n",
    "    tf.keras.layers.Dense(2)\n",
    "])\n",
    "'''\n",
    "model = Sequential([\n",
    "  layers.experimental.preprocessing.Rescaling(1./255, input_shape=(426, 495, 3)),\n",
    "  layers.Conv2D(32, 5, padding='same', activation='relu'),\n",
    "  layers.MaxPooling2D((3,3)),\n",
    "  layers.Conv2D(64, 5, padding='same', activation='relu'),\n",
    "  layers.MaxPooling2D((3,3)),\n",
    "  layers.Conv2D(128, 5, padding='same', activation='relu'),\n",
    "  layers.MaxPooling2D((3,3)),\n",
    "  layers.Conv2D(256, 5, padding='same', activation='relu'),\n",
    "  layers.MaxPooling2D((3,3)),\n",
    "  layers.Conv2D(512, 5, padding='same', activation='relu'),\n",
    "  layers.MaxPooling2D((3,3)),\n",
    "  layers.Dropout(0.5),\n",
    "  layers.Flatten(),\n",
    "  layers.Dense(1024, activation='relu'),\n",
    "  layers.Dense(4)\n",
    "])"
   ]
  },
  {
   "cell_type": "code",
   "execution_count": 526,
   "id": "68eecb81",
   "metadata": {},
   "outputs": [],
   "source": [
    "model.compile(optimizer='adam',\n",
    "              loss=tf.keras.losses.SparseCategoricalCrossentropy(from_logits=True),\n",
    "              metrics=['accuracy'])"
   ]
  },
  {
   "cell_type": "code",
   "execution_count": 527,
   "id": "3264142f",
   "metadata": {
    "scrolled": true
   },
   "outputs": [
    {
     "name": "stdout",
     "output_type": "stream",
     "text": [
      "Epoch 1/10\n",
      "84/84 [==============================] - 580s 7s/step - loss: 1.2653 - accuracy: 0.3994 - val_loss: 1.0864 - val_accuracy: 0.5743\n",
      "Epoch 2/10\n",
      "84/84 [==============================] - 567s 7s/step - loss: 1.1312 - accuracy: 0.5002 - val_loss: 0.9508 - val_accuracy: 0.5946\n",
      "Epoch 3/10\n",
      "84/84 [==============================] - 573s 7s/step - loss: 0.9176 - accuracy: 0.6175 - val_loss: 0.8155 - val_accuracy: 0.6419\n",
      "Epoch 4/10\n",
      "84/84 [==============================] - 584s 7s/step - loss: 0.7923 - accuracy: 0.6826 - val_loss: 0.6979 - val_accuracy: 0.7264\n",
      "Epoch 5/10\n",
      "84/84 [==============================] - 593s 7s/step - loss: 0.7262 - accuracy: 0.7048 - val_loss: 0.8051 - val_accuracy: 0.7196\n",
      "Epoch 6/10\n",
      "84/84 [==============================] - 606s 7s/step - loss: 0.6022 - accuracy: 0.7740 - val_loss: 0.5552 - val_accuracy: 0.8041\n",
      "Epoch 7/10\n",
      "84/84 [==============================] - 595s 7s/step - loss: 0.4848 - accuracy: 0.8251 - val_loss: 0.5245 - val_accuracy: 0.8074\n",
      "Epoch 8/10\n",
      "84/84 [==============================] - 581s 7s/step - loss: 0.4205 - accuracy: 0.8499 - val_loss: 0.7003 - val_accuracy: 0.7905\n",
      "Epoch 9/10\n",
      "84/84 [==============================] - 584s 7s/step - loss: 0.3602 - accuracy: 0.8691 - val_loss: 0.5558 - val_accuracy: 0.8108\n",
      "Epoch 10/10\n",
      "84/84 [==============================] - 550s 7s/step - loss: 0.3173 - accuracy: 0.8864 - val_loss: 0.6662 - val_accuracy: 0.8074\n"
     ]
    },
    {
     "data": {
      "text/plain": [
       "<tensorflow.python.keras.callbacks.History at 0x24d6e2ad088>"
      ]
     },
     "execution_count": 527,
     "metadata": {},
     "output_type": "execute_result"
    }
   ],
   "source": [
    "model.fit(total_data, total_labels, epochs=10,validation_split=0.1)"
   ]
  },
  {
   "cell_type": "code",
   "execution_count": null,
   "id": "ac035a61",
   "metadata": {},
   "outputs": [],
   "source": []
  },
  {
   "cell_type": "code",
   "execution_count": 851,
   "id": "a6980630",
   "metadata": {},
   "outputs": [],
   "source": [
    "sampletest = glob.glob('../datasets/sampletest/injured11.jpg')"
   ]
  },
  {
   "cell_type": "code",
   "execution_count": 852,
   "id": "2d83a444",
   "metadata": {},
   "outputs": [],
   "source": [
    "import matplotlib.pyplot as plt"
   ]
  },
  {
   "cell_type": "code",
   "execution_count": 853,
   "id": "5ac970c6",
   "metadata": {},
   "outputs": [],
   "source": [
    "import cv2"
   ]
  },
  {
   "cell_type": "code",
   "execution_count": 854,
   "id": "fb03a25b",
   "metadata": {},
   "outputs": [
    {
     "data": {
      "image/png": "[encoded data removed]",
      "text/plain": [
       "<Figure size 432x288 with 1 Axes>"
      ]
     },
     "metadata": {
      "needs_background": "light"
     },
     "output_type": "display_data"
    }
   ],
   "source": [
    "im = cv2.imread('../datasets/sampletest/injured11.jpg')\n",
    "im_resized = cv2.resize(im, (495, 426), interpolation=cv2.INTER_LINEAR)\n",
    "\n",
    "plt.imshow(cv2.cvtColor(im_resized, cv2.COLOR_BGR2RGB))\n",
    "plt.show()"
   ]
  },
  {
   "cell_type": "code",
   "execution_count": 855,
   "id": "b1fc0eac",
   "metadata": {},
   "outputs": [],
   "source": [
    "sampletest=[np.array(Image.open(v).resize((495,426))) for v in sampletest]"
   ]
  },
  {
   "cell_type": "code",
   "execution_count": 856,
   "id": "8ae17d9f",
   "metadata": {},
   "outputs": [],
   "source": [
    "sampletest=np.array(sampletest)"
   ]
  },
  {
   "cell_type": "code",
   "execution_count": 863,
   "id": "97d4e838",
   "metadata": {},
   "outputs": [],
   "source": [
    "predictions=model.predict(sampletest)"
   ]
  },
  {
   "cell_type": "code",
   "execution_count": 864,
   "id": "7b93725b",
   "metadata": {},
   "outputs": [],
   "source": [
    "score = tf.nn.softmax(predictions[0])"
   ]
  },
  {
   "cell_type": "code",
   "execution_count": 865,
   "id": "73024d3e",
   "metadata": {},
   "outputs": [
    {
     "data": {
      "text/plain": [
       "<tf.Tensor: shape=(4,), dtype=float32, numpy=array([0.11642371, 0.00164818, 0.88050795, 0.00142013], dtype=float32)>"
      ]
     },
     "execution_count": 865,
     "metadata": {},
     "output_type": "execute_result"
    }
   ],
   "source": [
    "score"
   ]
  },
  {
   "cell_type": "code",
   "execution_count": 866,
   "id": "d0a3f6fd",
   "metadata": {},
   "outputs": [
    {
     "name": "stdout",
     "output_type": "stream",
     "text": [
      "This image most likely belongs to Injury with a 88.05 percent confidence.\n"
     ]
    }
   ],
   "source": [
    "print(\n",
    "    \"This image most likely belongs to {} with a {:.2f} percent confidence.\"\n",
    "    .format(['Fire','Traffic','Injury','Normal'][np.argmax(score)], 100 * np.max(score))\n",
    ")"
   ]
  },
  {
   "cell_type": "code",
   "execution_count": 848,
   "id": "7be37232",
   "metadata": {},
   "outputs": [],
   "source": [
    "import tensorflow as tf"
   ]
  },
  {
   "cell_type": "code",
   "execution_count": 756,
   "id": "1fb9b88a",
   "metadata": {},
   "outputs": [],
   "source": [
    "from keras.models import load_model"
   ]
  },
  {
   "cell_type": "code",
   "execution_count": 630,
   "id": "abf5429c",
   "metadata": {},
   "outputs": [
    {
     "name": "stdout",
     "output_type": "stream",
     "text": [
      "INFO:tensorflow:Assets written to: JordanModel1\\assets\n"
     ]
    }
   ],
   "source": [
    "model.save('JordanModel1')"
   ]
  },
  {
   "cell_type": "code",
   "execution_count": 849,
   "id": "447001df",
   "metadata": {},
   "outputs": [],
   "source": [
    "model3 = load_model('JordanModel1')"
   ]
  },
  {
   "cell_type": "code",
   "execution_count": 850,
   "id": "bcf23306",
   "metadata": {},
   "outputs": [
    {
     "name": "stdout",
     "output_type": "stream",
     "text": [
      "Model: \"sequential_4\"\n",
      "_________________________________________________________________\n",
      "Layer (type)                 Output Shape              Param #   \n",
      "=================================================================\n",
      "rescaling_4 (Rescaling)      (None, 426, 495, 3)       0         \n",
      "_________________________________________________________________\n",
      "conv2d_16 (Conv2D)           (None, 426, 495, 32)      2432      \n",
      "_________________________________________________________________\n",
      "max_pooling2d_16 (MaxPooling (None, 142, 165, 32)      0         \n",
      "_________________________________________________________________\n",
      "conv2d_17 (Conv2D)           (None, 142, 165, 64)      51264     \n",
      "_________________________________________________________________\n",
      "max_pooling2d_17 (MaxPooling (None, 47, 55, 64)        0         \n",
      "_________________________________________________________________\n",
      "conv2d_18 (Conv2D)           (None, 47, 55, 128)       204928    \n",
      "_________________________________________________________________\n",
      "max_pooling2d_18 (MaxPooling (None, 15, 18, 128)       0         \n",
      "_________________________________________________________________\n",
      "conv2d_19 (Conv2D)           (None, 15, 18, 256)       819456    \n",
      "_________________________________________________________________\n",
      "max_pooling2d_19 (MaxPooling (None, 5, 6, 256)         0         \n",
      "_________________________________________________________________\n",
      "conv2d_20 (Conv2D)           (None, 5, 6, 512)         3277312   \n",
      "_________________________________________________________________\n",
      "max_pooling2d_20 (MaxPooling (None, 1, 2, 512)         0         \n",
      "_________________________________________________________________\n",
      "dropout_4 (Dropout)          (None, 1, 2, 512)         0         \n",
      "_________________________________________________________________\n",
      "flatten_4 (Flatten)          (None, 1024)              0         \n",
      "_________________________________________________________________\n",
      "dense_8 (Dense)              (None, 1024)              1049600   \n",
      "_________________________________________________________________\n",
      "dense_9 (Dense)              (None, 4)                 4100      \n",
      "=================================================================\n",
      "Total params: 5,409,092\n",
      "Trainable params: 5,409,092\n",
      "Non-trainable params: 0\n",
      "_________________________________________________________________\n"
     ]
    }
   ],
   "source": [
    "model3.summary()"
   ]
  },
  {
   "cell_type": "code",
   "execution_count": null,
   "id": "ad12523d",
   "metadata": {},
   "outputs": [],
   "source": []
  },
  {
   "cell_type": "code",
   "execution_count": null,
   "id": "6187e28a",
   "metadata": {},
   "outputs": [],
   "source": []
  },
  {
   "cell_type": "code",
   "execution_count": null,
   "id": "122b25db",
   "metadata": {},
   "outputs": [],
   "source": []
  },
  {
   "cell_type": "code",
   "execution_count": null,
   "id": "c63530ad",
   "metadata": {},
   "outputs": [],
   "source": []
  },
  {
   "cell_type": "code",
   "execution_count": null,
   "id": "69741a79",
   "metadata": {},
   "outputs": [],
   "source": []
  },
  {
   "cell_type": "code",
   "execution_count": 116,
   "id": "91937094",
   "metadata": {
    "scrolled": false
   },
   "outputs": [
    {
     "data": {
      "text/plain": [
       "(1006, 426, 495, 3)"
      ]
     },
     "execution_count": 116,
     "metadata": {},
     "output_type": "execute_result"
    }
   ],
   "source": [
    "total_data.shape"
   ]
  },
  {
   "cell_type": "code",
   "execution_count": 112,
   "id": "00b637c4",
   "metadata": {},
   "outputs": [
    {
     "data": {
      "text/plain": [
       "1006"
      ]
     },
     "execution_count": 112,
     "metadata": {},
     "output_type": "execute_result"
    }
   ],
   "source": [
    "len(total_labels)"
   ]
  },
  {
   "cell_type": "code",
   "execution_count": 113,
   "id": "59add292",
   "metadata": {},
   "outputs": [
    {
     "ename": "AttributeError",
     "evalue": "'list' object has no attribute 'shape'",
     "output_type": "error",
     "traceback": [
      "\u001b[1;31m---------------------------------------------------------------------------\u001b[0m",
      "\u001b[1;31mAttributeError\u001b[0m                            Traceback (most recent call last)",
      "\u001b[1;32m<ipython-input-113-109a1f2203b3>\u001b[0m in \u001b[0;36m<module>\u001b[1;34m\u001b[0m\n\u001b[1;32m----> 1\u001b[1;33m \u001b[0mtotal_data\u001b[0m\u001b[1;33m.\u001b[0m\u001b[0mshape\u001b[0m\u001b[1;33m\u001b[0m\u001b[1;33m\u001b[0m\u001b[0m\n\u001b[0m",
      "\u001b[1;31mAttributeError\u001b[0m: 'list' object has no attribute 'shape'"
     ]
    }
   ],
   "source": [
    "total_data.shape"
   ]
  },
  {
   "cell_type": "code",
   "execution_count": null,
   "id": "7a5c7a56",
   "metadata": {},
   "outputs": [],
   "source": []
  },
  {
   "cell_type": "code",
   "execution_count": 40,
   "id": "6889731e",
   "metadata": {},
   "outputs": [
    {
     "data": {
      "text/plain": [
       "array([60, 70, 61], dtype=uint8)"
      ]
     },
     "execution_count": 40,
     "metadata": {},
     "output_type": "execute_result"
    }
   ],
   "source": [
    "data[0][0][0]"
   ]
  },
  {
   "cell_type": "code",
   "execution_count": 50,
   "id": "39de7b09",
   "metadata": {},
   "outputs": [
    {
     "ename": "TypeError",
     "evalue": "unsupported operand type(s) for +: 'int' and 'tuple'",
     "output_type": "error",
     "traceback": [
      "\u001b[1;31m---------------------------------------------------------------------------\u001b[0m",
      "\u001b[1;31mTypeError\u001b[0m                                 Traceback (most recent call last)",
      "\u001b[1;32m<ipython-input-50-de0e23bfb6d3>\u001b[0m in \u001b[0;36m<module>\u001b[1;34m\u001b[0m\n\u001b[1;32m----> 1\u001b[1;33m \u001b[0msum\u001b[0m\u001b[1;33m(\u001b[0m\u001b[0mImage\u001b[0m\u001b[1;33m.\u001b[0m\u001b[0mopen\u001b[0m\u001b[1;33m(\u001b[0m\u001b[0mf\u001b[0m\u001b[1;33m,\u001b[0m \u001b[1;34m'r'\u001b[0m\u001b[1;33m)\u001b[0m\u001b[1;33m.\u001b[0m\u001b[0msize\u001b[0m \u001b[1;32mfor\u001b[0m \u001b[0mf\u001b[0m \u001b[1;32min\u001b[0m \u001b[0mdata_list\u001b[0m\u001b[1;33m)\u001b[0m\u001b[1;33m/\u001b[0m\u001b[0mlen\u001b[0m\u001b[1;33m(\u001b[0m\u001b[0mdata_list\u001b[0m\u001b[1;33m)\u001b[0m\u001b[1;33m\u001b[0m\u001b[1;33m\u001b[0m\u001b[0m\n\u001b[0m",
      "\u001b[1;31mTypeError\u001b[0m: unsupported operand type(s) for +: 'int' and 'tuple'"
     ]
    }
   ],
   "source": [
    "sum(Image.open(f, 'r').size for f in data_list)/len(data_list)"
   ]
  },
  {
   "cell_type": "code",
   "execution_count": 43,
   "id": "c206b080",
   "metadata": {},
   "outputs": [
    {
     "name": "stdout",
     "output_type": "stream",
     "text": [
      "42\n"
     ]
    }
   ],
   "source": [
    "from numpy import array\n",
    "image_array = array([Image.open(f, 'r').size for f in data_list])\n",
    "print(image_array.argmax())"
   ]
  },
  {
   "cell_type": "code",
   "execution_count": 46,
   "id": "327bdfb6",
   "metadata": {},
   "outputs": [],
   "source": [
    "def get_img_size(path):\n",
    "    width, height = Image.open(path).size\n",
    "    return width*height\n",
    "\n",
    "largest = max(data_list, key=get_img_size)"
   ]
  },
  {
   "cell_type": "code",
   "execution_count": 47,
   "id": "3afdae7d",
   "metadata": {},
   "outputs": [
    {
     "data": {
      "text/plain": [
       "'../datasets/fire/fire\\\\fire_image0022.jpg'"
      ]
     },
     "execution_count": 47,
     "metadata": {},
     "output_type": "execute_result"
    }
   ],
   "source": [
    "largest"
   ]
  },
  {
   "cell_type": "code",
   "execution_count": null,
   "id": "54227b61",
   "metadata": {},
   "outputs": [],
   "source": []
  }
 ],
 "metadata": {
  "kernelspec": {
   "display_name": "Python 3",
   "language": "python",
   "name": "python3"
  },
  "language_info": {
   "codemirror_mode": {
    "name": "ipython",
    "version": 3
   },
   "file_extension": ".py",
   "mimetype": "text/x-python",
   "name": "python",
   "nbconvert_exporter": "python",
   "pygments_lexer": "ipython3",
   "version": "3.7.5"
  }
 },
 "nbformat": 4,
 "nbformat_minor": 5
}
